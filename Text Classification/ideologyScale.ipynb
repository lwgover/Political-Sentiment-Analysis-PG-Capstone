{
 "cells": [
  {
   "cell_type": "code",
   "execution_count": null,
   "metadata": {},
   "outputs": [],
   "source": [
    "from Bill import Bill\n",
    "import numpy as np\n",
    "from plistlib import InvalidFileException\n",
    "import pandas as pd"
   ]
  },
  {
   "cell_type": "code",
   "execution_count": null,
   "metadata": {},
   "outputs": [],
   "source": [
    "def make_bills(folder:str):\n",
    "    bill_locations = os.listdir(folder)\n",
    "    bill_locations = list(map(lambda loc:folder + '/' + loc, bill_locations))\n",
    "    bills = []\n",
    "    for bill_file in bill_locations:\n",
    "        if bill_file[-3:] == 'txt':\n",
    "            try:\n",
    "                bills.append(Bill(bill_file))\n",
    "            except InvalidFileException as e:\n",
    "                continue\n",
    "    return bills"
   ]
  },
  {
   "cell_type": "code",
   "execution_count": null,
   "metadata": {},
   "outputs": [],
   "source": [
    "# Import Bills Here\n",
    "BillsLocation = '/Users/lucasgover/Desktop/AI431_Projects/AIFinal/Bills_2021-2022'\n",
    "bills = make_bills(BillsLocation)"
   ]
  },
  {
   "cell_type": "code",
   "execution_count": null,
   "metadata": {},
   "outputs": [],
   "source": [
    "#get all the congress people\n",
    "congressPeople = set()\n",
    "for bill in bills:\n",
    "    if bill.sponsor not in congressPeople:\n",
    "        congressPeople.add(bill.sponsor)\n",
    "    for congressPerson in congressPeople:\n",
    "        if congressPerson not in congressPeople:\n",
    "            congressPeople.add(congressPerson)\n",
    "congressPeople = list(congressPeople)"
   ]
  },
  {
   "cell_type": "code",
   "execution_count": null,
   "metadata": {},
   "outputs": [],
   "source": [
    "congressPersonIndex = dict()\n",
    "for i in range(len(congressPeople)):\n",
    "    congressPersonIndex[congressPeople[i]] = i"
   ]
  },
  {
   "cell_type": "code",
   "execution_count": null,
   "metadata": {},
   "outputs": [],
   "source": [
    "def billToCosponsorshipVector(bill:Bill,CongressPersonDict:dict()):\n",
    "    vector = []\n",
    "    for i in range(len(CongressPersonDict)):\n",
    "        vector += [0]\n",
    "    #check if there is a cosponsor ?\n",
    "    if bill.sponsor in CongressPersonDict.keys():\n",
    "        vector[CongressPersonDict[bill.sponsor]] = 1\n",
    "    for cosponsor in bill.cosponsors:\n",
    "        if cosponsor in CongressPersonDict.keys():\n",
    "            vector[CongressPersonDict[cosponsor]] = 1\n",
    "    return np.array(vector)\n",
    "def makeCosponsorshipVectors(bills:list,CongressPersonDict:dict):\n",
    "    vectors = []\n",
    "    for bill in bills:\n",
    "        vectors += [billToCosponsorshipVector(bill,CongressPersonDict)]\n",
    "    return vectors"
   ]
  },
  {
   "cell_type": "code",
   "execution_count": null,
   "metadata": {},
   "outputs": [],
   "source": [
    "cosponsorshipVectors = makeCosponsorshipVectors(bills,congressPersonIndex)"
   ]
  },
  {
   "cell_type": "code",
   "execution_count": null,
   "metadata": {},
   "outputs": [],
   "source": [
    "#reduce dimensions?"
   ]
  },
  {
   "cell_type": "code",
   "execution_count": null,
   "metadata": {},
   "outputs": [],
   "source": [
    "senators = pd.read_csv('/Users/lucasgover/Downloads/dataverse_files/congress116-senate-accounts.csv')\n",
    "senators['Token'] = senators['Token'].str.lower()\n",
    "Senator_accounts = list(senators['Token'])\n",
    "\n",
    "reps = pd.read_csv('/Users/lucasgover/Downloads/dataverse_files/congress116-house-accounts.csv')\n",
    "reps['Token'] = reps['Token'].str.lower()\n",
    "reps_accounts = list(reps['Token'])"
   ]
  }
 ],
 "metadata": {
  "kernelspec": {
   "display_name": "Python 3.10.2 64-bit",
   "language": "python",
   "name": "python3"
  },
  "language_info": {
   "codemirror_mode": {
    "name": "ipython",
    "version": 3
   },
   "file_extension": ".py",
   "mimetype": "text/x-python",
   "name": "python",
   "nbconvert_exporter": "python",
   "pygments_lexer": "ipython3",
   "version": "3.10.2"
  },
  "orig_nbformat": 4,
  "vscode": {
   "interpreter": {
    "hash": "aee8b7b246df8f9039afb4144a1f6fd8d2ca17a180786b69acc140d282b71a49"
   }
  }
 },
 "nbformat": 4,
 "nbformat_minor": 2
}
