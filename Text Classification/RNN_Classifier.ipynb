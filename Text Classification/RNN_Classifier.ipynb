{
 "cells": [
  {
   "cell_type": "code",
   "execution_count": 1,
   "metadata": {},
   "outputs": [],
   "source": [
    "\n",
    "from keras.datasets import imdb\n",
    "import pandas as pd\n",
    "import tensorflow as tf\n",
    "import numpy as np\n",
    "from keras.layers import LSTM, Activation, Dropout, Dense, Input\n",
    "from keras.layers.embeddings import Embedding\n",
    "from keras.models import Model\n",
    "import string\n",
    "import re\n",
    "from keras.preprocessing.text import Tokenizer\n",
    "from sklearn.preprocessing import LabelBinarizer\n",
    "from keras.preprocessing.sequence import pad_sequences\n",
    "import keras\n",
    "from sklearn.model_selection import train_test_split"
   ]
  },
  {
   "cell_type": "code",
   "execution_count": 2,
   "metadata": {},
   "outputs": [],
   "source": [
    "import matplotlib.pyplot as plt\n",
    "\n",
    "\n",
    "def plot_graphs(history, metric):\n",
    "  plt.plot(history.history[metric])\n",
    "  plt.plot(history.history['val_'+metric], '')\n",
    "  plt.xlabel(\"Epochs\")\n",
    "  plt.ylabel(metric)\n",
    "  plt.legend([metric, 'val_'+metric])"
   ]
  },
  {
   "cell_type": "code",
   "execution_count": 3,
   "metadata": {},
   "outputs": [],
   "source": [
    "data = pd.read_csv(\"IdeologyBills.csv\")"
   ]
  },
  {
   "cell_type": "code",
   "execution_count": 4,
   "metadata": {},
   "outputs": [],
   "source": [
    "#print('texts: ', data['text'].to_numpy()[:3])\n",
    "#print()\n",
    "#print('labels: ', data['Ideology'].to_numpy()[:3])"
   ]
  },
  {
   "cell_type": "code",
   "execution_count": 5,
   "metadata": {},
   "outputs": [
    {
     "name": "stderr",
     "output_type": "stream",
     "text": [
      "/var/folders/jn/grz4j9xj2dd9pq6p41gbk1j00000gn/T/ipykernel_40388/1785652629.py:3: FutureWarning: The default value of regex will change from True to False in a future version.\n",
      "  data['text'] = data['text'].str.replace('[{}]'.format(string.punctuation), ' ')\n"
     ]
    }
   ],
   "source": [
    "data['text'] = data['text'].str.lower()\n",
    "data['text'] = data['text'].apply(lambda a: re.sub('[^a-zA-z0-9\\s]','',a))\n",
    "data['text'] = data['text'].str.replace('[{}]'.format(string.punctuation), ' ')"
   ]
  },
  {
   "cell_type": "code",
   "execution_count": 6,
   "metadata": {},
   "outputs": [
    {
     "name": "stderr",
     "output_type": "stream",
     "text": [
      "2022-12-09 01:51:46.163664: I tensorflow/core/platform/cpu_feature_guard.cc:151] This TensorFlow binary is optimized with oneAPI Deep Neural Network Library (oneDNN) to use the following CPU instructions in performance-critical operations:  AVX2 FMA\n",
      "To enable them in other operations, rebuild TensorFlow with the appropriate compiler flags.\n"
     ]
    },
    {
     "name": "stdout",
     "output_type": "stream",
     "text": [
      "tf.Tensor([  5 410  57 ...   0   0   0], shape=(3000,), dtype=int64)\n"
     ]
    }
   ],
   "source": [
    "VOCAB_SIZE = 5000\n",
    "encoder = tf.keras.layers.TextVectorization(\n",
    "    max_tokens=VOCAB_SIZE,output_sequence_length=3000)\n",
    "\n",
    "npTexts = data['text'].to_numpy()\n",
    "#npTexts = np.array(list(map(lambda a: np.flatten(a),npTexts)))\n",
    "npTexts = npTexts.reshape(len(npTexts))\n",
    "encoder.adapt(npTexts)\n",
    "print(encoder(npTexts[2]))"
   ]
  },
  {
   "cell_type": "code",
   "execution_count": 7,
   "metadata": {},
   "outputs": [
    {
     "data": {
      "text/plain": [
       "array(['', '[UNK]', 'the', 'of', 'and', 'to', 'in', 'a', 'for', 'or',\n",
       "       'by', 'section', 'as', 'such', 'shall', 'on', 'under', 'is',\n",
       "       'that', 'act'], dtype='<U22')"
      ]
     },
     "execution_count": 7,
     "metadata": {},
     "output_type": "execute_result"
    }
   ],
   "source": [
    "vocab = np.array(encoder.get_vocabulary())\n",
    "vocab[:20]"
   ]
  },
  {
   "cell_type": "code",
   "execution_count": 8,
   "metadata": {},
   "outputs": [
    {
     "data": {
      "text/plain": [
       "3000"
      ]
     },
     "execution_count": 8,
     "metadata": {},
     "output_type": "execute_result"
    }
   ],
   "source": [
    "example = data['text']\n",
    "encoded_example = encoder(example).numpy()\n",
    "len(encoded_example[0])"
   ]
  },
  {
   "cell_type": "code",
   "execution_count": 9,
   "metadata": {},
   "outputs": [
    {
     "name": "stdout",
     "output_type": "stream",
     "text": [
      "\n",
      "\n",
      "\n"
     ]
    }
   ],
   "source": [
    "for n in range(3):\n",
    "  #print(\"Original: \", example[n])\n",
    "  #print(\"Round-trip: \", \" \".join(vocab[encoded_example[n]]))\n",
    "  print()"
   ]
  },
  {
   "cell_type": "code",
   "execution_count": 10,
   "metadata": {},
   "outputs": [
    {
     "data": {
      "text/plain": [
       "5000"
      ]
     },
     "execution_count": 10,
     "metadata": {},
     "output_type": "execute_result"
    }
   ],
   "source": [
    "len(encoder.get_vocabulary())"
   ]
  },
  {
   "cell_type": "code",
   "execution_count": 37,
   "metadata": {},
   "outputs": [],
   "source": [
    "GloVe_file = '/Users/lucasgover/Downloads/glove.6B/glove.6B.50d.txt'"
   ]
  },
  {
   "cell_type": "code",
   "execution_count": 38,
   "metadata": {},
   "outputs": [],
   "source": [
    "embeddings_index = {}\n",
    "with open(path_to_glove_file) as f:\n",
    "    for line in f:\n",
    "        word, coefs = line.split(maxsplit=1)\n",
    "        coefs = np.fromstring(coefs, \"f\", sep=\" \")\n",
    "        embeddings_index[word] = coefs\n",
    "\n",
    "print(\"Found %s word vectors.\" % len(embeddings_index))"
   ]
  },
  {
   "cell_type": "code",
   "execution_count": 40,
   "metadata": {},
   "outputs": [
    {
     "ename": "KeyboardInterrupt",
     "evalue": "",
     "output_type": "error",
     "traceback": [
      "\u001b[0;31m---------------------------------------------------------------------------\u001b[0m",
      "\u001b[0;31mKeyboardInterrupt\u001b[0m                         Traceback (most recent call last)",
      "\u001b[1;32m/Users/lucasgover/Desktop/Political-Sentiment-Analysis-PG-Capstone/Text Classification/RNN_Classifier.ipynb Cell 13\u001b[0m in \u001b[0;36m<cell line: 3>\u001b[0;34m()\u001b[0m\n\u001b[1;32m      <a href='vscode-notebook-cell:/Users/lucasgover/Desktop/Political-Sentiment-Analysis-PG-Capstone/Text%20Classification/RNN_Classifier.ipynb#X61sZmlsZQ%3D%3D?line=0'>1</a>\u001b[0m vocab_len \u001b[39m=\u001b[39m \u001b[39mlen\u001b[39m(encoder\u001b[39m.\u001b[39mget_vocabulary())\n\u001b[1;32m      <a href='vscode-notebook-cell:/Users/lucasgover/Desktop/Political-Sentiment-Analysis-PG-Capstone/Text%20Classification/RNN_Classifier.ipynb#X61sZmlsZQ%3D%3D?line=1'>2</a>\u001b[0m embed_vector_len \u001b[39m=\u001b[39m \u001b[39m50\u001b[39m\n\u001b[0;32m----> <a href='vscode-notebook-cell:/Users/lucasgover/Desktop/Political-Sentiment-Analysis-PG-Capstone/Text%20Classification/RNN_Classifier.ipynb#X61sZmlsZQ%3D%3D?line=2'>3</a>\u001b[0m word_to_vec_map \u001b[39m=\u001b[39m read_glove_vector(GloVe_file)\n\u001b[1;32m      <a href='vscode-notebook-cell:/Users/lucasgover/Desktop/Political-Sentiment-Analysis-PG-Capstone/Text%20Classification/RNN_Classifier.ipynb#X61sZmlsZQ%3D%3D?line=4'>5</a>\u001b[0m emb_matrix \u001b[39m=\u001b[39m np\u001b[39m.\u001b[39mzeros((vocab_len, embed_vector_len))\n\u001b[1;32m      <a href='vscode-notebook-cell:/Users/lucasgover/Desktop/Political-Sentiment-Analysis-PG-Capstone/Text%20Classification/RNN_Classifier.ipynb#X61sZmlsZQ%3D%3D?line=6'>7</a>\u001b[0m \u001b[39mfor\u001b[39;00m word,index \u001b[39min\u001b[39;00m \u001b[39mzip\u001b[39m(encoder\u001b[39m.\u001b[39mget_vocabulary(),\u001b[39mrange\u001b[39m(\u001b[39mlen\u001b[39m(encoder\u001b[39m.\u001b[39mget_vocabulary()))):\n",
      "\u001b[1;32m/Users/lucasgover/Desktop/Political-Sentiment-Analysis-PG-Capstone/Text Classification/RNN_Classifier.ipynb Cell 13\u001b[0m in \u001b[0;36mread_glove_vector\u001b[0;34m(glove_vec)\u001b[0m\n\u001b[1;32m      <a href='vscode-notebook-cell:/Users/lucasgover/Desktop/Political-Sentiment-Analysis-PG-Capstone/Text%20Classification/RNN_Classifier.ipynb#X61sZmlsZQ%3D%3D?line=5'>6</a>\u001b[0m     w_line \u001b[39m=\u001b[39m line\u001b[39m.\u001b[39msplit()\n\u001b[1;32m      <a href='vscode-notebook-cell:/Users/lucasgover/Desktop/Political-Sentiment-Analysis-PG-Capstone/Text%20Classification/RNN_Classifier.ipynb#X61sZmlsZQ%3D%3D?line=6'>7</a>\u001b[0m     curr_word \u001b[39m=\u001b[39m w_line[\u001b[39m0\u001b[39m]\n\u001b[0;32m----> <a href='vscode-notebook-cell:/Users/lucasgover/Desktop/Political-Sentiment-Analysis-PG-Capstone/Text%20Classification/RNN_Classifier.ipynb#X61sZmlsZQ%3D%3D?line=7'>8</a>\u001b[0m     word_to_vec_map[curr_word] \u001b[39m=\u001b[39m np\u001b[39m.\u001b[39marray(w_line[\u001b[39m1\u001b[39m:], dtype\u001b[39m=\u001b[39mnp\u001b[39m.\u001b[39mfloat64)\n\u001b[1;32m     <a href='vscode-notebook-cell:/Users/lucasgover/Desktop/Political-Sentiment-Analysis-PG-Capstone/Text%20Classification/RNN_Classifier.ipynb#X61sZmlsZQ%3D%3D?line=11'>12</a>\u001b[0m \u001b[39mreturn\u001b[39;00m word_to_vec_map\n",
      "\u001b[0;31mKeyboardInterrupt\u001b[0m: "
     ]
    }
   ],
   "source": [
    "vocab_len = len(encoder.get_vocabulary())\n",
    "embed_vector_len = 50\n",
    "word_to_vec_map = read_glove_vector(GloVe_file)\n",
    "\n",
    "emb_matrix = np.zeros((vocab_len, embed_vector_len))\n",
    "\n",
    "for word,index in zip(encoder.get_vocabulary(),range(len(encoder.get_vocabulary()))):\n",
    "  print(word)\n",
    "  embedding_vector = word_to_vec_map.get(word)\n",
    "  if embedding_vector is not None:\n",
    "    emb_matrix[index-1, :] = embedding_vector\n",
    "\n",
    "embedding_layer = Embedding(input_dim=vocab_len, output_dim=embed_vector_len, input_length=maxLen, weights = [emb_matrix], trainable=False)"
   ]
  },
  {
   "cell_type": "code",
   "execution_count": 11,
   "metadata": {},
   "outputs": [],
   "source": [
    "model = keras.models.Sequential()\n",
    "model.add(encoder)\n",
    "model.add(keras.layers.Embedding(input_dim=len(encoder.get_vocabulary()),\n",
    "        output_dim=64,\n",
    "        mask_zero=True))\n",
    "model.add(tf.keras.layers.Bidirectional(tf.keras.layers.LSTM(64,  return_sequences=True)))\n",
    "model.add(tf.keras.layers.Bidirectional(tf.keras.layers.LSTM(64)))\n",
    "model.add(tf.keras.layers.Dense(64, activation='relu'))\n",
    "model.add(tf.keras.layers.Dropout(0.5))\n",
    "model.add(tf.keras.layers.Dense(1))\n"
   ]
  },
  {
   "cell_type": "code",
   "execution_count": 12,
   "metadata": {},
   "outputs": [
    {
     "name": "stdout",
     "output_type": "stream",
     "text": [
      "[False, True, True, True, True]\n"
     ]
    }
   ],
   "source": [
    "print([layer.supports_masking for layer in model.layers])"
   ]
  },
  {
   "cell_type": "code",
   "execution_count": 13,
   "metadata": {},
   "outputs": [
    {
     "name": "stdout",
     "output_type": "stream",
     "text": [
      "[0.00067044]\n"
     ]
    }
   ],
   "source": [
    "# predict on a sample text without padding.\n",
    "\n",
    "sample_text = ('The movie was cool. The animation and the graphics '\n",
    "               'were out of this world. I would recommend this movie.')\n",
    "predictions = model.predict(np.array([sample_text]))\n",
    "print(predictions[0])\n"
   ]
  },
  {
   "cell_type": "code",
   "execution_count": 14,
   "metadata": {},
   "outputs": [
    {
     "name": "stdout",
     "output_type": "stream",
     "text": [
      "[0.00067044]\n"
     ]
    }
   ],
   "source": [
    "# predict on a sample text with padding\n",
    "\n",
    "padding = \"the \" * 2000\n",
    "predictions = model.predict(np.array([sample_text, padding]))\n",
    "print(predictions[0])\n"
   ]
  },
  {
   "cell_type": "code",
   "execution_count": 15,
   "metadata": {},
   "outputs": [],
   "source": [
    "model.compile(loss=tf.keras.losses.MeanSquaredError(),\n",
    "              optimizer=tf.keras.optimizers.Adam(1e-4),\n",
    "              metrics=keras.metrics.MeanSquaredError())\n"
   ]
  },
  {
   "cell_type": "code",
   "execution_count": 16,
   "metadata": {},
   "outputs": [],
   "source": [
    "X = npTexts\n",
    "y = data['Ideology'].to_numpy()\n",
    "X_train, X_test,Y_train, Y_test = train_test_split(X, y, test_size=0.2, random_state = 45)"
   ]
  },
  {
   "cell_type": "code",
   "execution_count": 18,
   "metadata": {},
   "outputs": [
    {
     "name": "stdout",
     "output_type": "stream",
     "text": [
      "74/74 [==============================] - 173s 2s/step - loss: 0.0384 - mean_squared_error: 0.0384 - val_loss: 0.0624 - val_mean_squared_error: 0.0624\n"
     ]
    }
   ],
   "source": [
    "history = model.fit(X_train,Y_train, epochs=1,validation_data=(X_test,Y_test),validation_steps=30)"
   ]
  },
  {
   "cell_type": "code",
   "execution_count": null,
   "metadata": {},
   "outputs": [],
   "source": [
    "#model.save('~/model_12/8ish')"
   ]
  },
  {
   "cell_type": "code",
   "execution_count": 19,
   "metadata": {},
   "outputs": [
    {
     "name": "stdout",
     "output_type": "stream",
     "text": [
      "74/74 [==============================] - 33s 438ms/step - loss: 0.0264 - mean_squared_error: 0.0264\n",
      "Test Loss: 0.026433808729052544\n",
      "Test Accuracy: 0.026433808729052544\n"
     ]
    }
   ],
   "source": [
    "test_loss, test_acc = model.evaluate(X_train,Y_train)\n",
    "\n",
    "\n",
    "print('Test Loss:', test_loss)\n",
    "print('Test Accuracy:', test_acc)"
   ]
  },
  {
   "cell_type": "code",
   "execution_count": 24,
   "metadata": {},
   "outputs": [
    {
     "data": {
      "text/plain": [
       "{'loss': [0.038434747606515884],\n",
       " 'mean_squared_error': [0.038434747606515884],\n",
       " 'val_loss': [0.06241213157773018],\n",
       " 'val_mean_squared_error': [0.06241213157773018]}"
      ]
     },
     "execution_count": 24,
     "metadata": {},
     "output_type": "execute_result"
    }
   ],
   "source": [
    "history.history"
   ]
  },
  {
   "cell_type": "code",
   "execution_count": 25,
   "metadata": {},
   "outputs": [
    {
     "data": {
      "text/plain": [
       "(0.0, 0.0636110007762909)"
      ]
     },
     "execution_count": 25,
     "metadata": {},
     "output_type": "execute_result"
    },
    {
     "data": {
      "image/png": "[encoded data removed]",
      "text/plain": [
       "<Figure size 1152x576 with 2 Axes>"
      ]
     },
     "metadata": {
      "needs_background": "light"
     },
     "output_type": "display_data"
    }
   ],
   "source": [
    "plt.figure(figsize=(16, 8))\n",
    "plt.subplot(1, 2, 1)\n",
    "plot_graphs(history, 'mean_squared_error')\n",
    "plt.ylim(None, 1)\n",
    "plt.subplot(1, 2, 2)\n",
    "plot_graphs(history, 'loss')\n",
    "plt.ylim(0, None)"
   ]
  },
  {
   "cell_type": "code",
   "execution_count": 28,
   "metadata": {},
   "outputs": [
    {
     "name": "stdout",
     "output_type": "stream",
     "text": [
      "[  5 410  57 ...   0   0   0]\n",
      "[   5  147 3742 ...    0    0    0]\n",
      "[  5 344   2 ...   0   0   0]\n",
      "[  5 147  39 ...   0   0   0]\n",
      "[5 1 2 ... 0 0 0]\n",
      "[  5 410   2 ...   0   0   0]\n",
      "[  5 147  11 ...   0   0   0]\n",
      "[  5 147   2 ...   0   0   0]\n",
      "[  5 970   2 ...   0   0   0]\n",
      "[  5 344   2 ...   0   0   0]\n",
      "[1023    2  677 ...    0    0    0]\n",
      "[ 626    2 1067 ...    0    0    0]\n",
      "[  5 344   2 ...   0   0   0]\n",
      "[3022   15    2 ...    0    0    0]\n",
      "[  5 147   2 ...   0   0   0]\n",
      "[  5 147  39 ...   0   0   0]\n",
      "[  5 147   2 ...   0   0   0]\n",
      "[  5 147   2 ...   0   0   0]\n",
      "[  5 147   2 ...   0   0   0]\n",
      "[  5 147  39 ...   0   0   0]\n",
      "[  5 147   2 ...   0   0   0]\n",
      "[  5 247  18 ...   0   0   0]\n",
      "[  5 147   2 ...   0   0   0]\n",
      "[  5 226   2 ...   0   0   0]\n",
      "[  5 147   2 ...   0   0   0]\n",
      "[  5 109   8 ...   0   0   0]\n",
      "[  5 344   2 ...   0   0   0]\n",
      "[  5 147   2 ...   0   0   0]\n",
      "[  5 344   2 ...   0   0   0]\n",
      "[   5 2434    2 ...    0    0    0]\n",
      "[  5 147  39 ...   0   0   0]\n",
      "[  5 147   2 ...   0   0   0]\n",
      "[  5 147  39 ...   0   0   0]\n",
      "[  5 147   2 ...   0   0   0]\n",
      "[  5 147   2 ...   0   0   0]\n",
      "[  5 226 122 ...   0   0   0]\n",
      "[  5 226   2 ...   0   0   0]\n",
      "[  5 147  39 ...   0   0   0]\n",
      "[  5 801 378 ...   0   0   0]\n",
      "[  5 147 181 ...   0   0   0]\n",
      "[  5 147   2 ...   0   0   0]\n",
      "[  5 109   8 ...   0   0   0]\n",
      "[  5 226   2 ...   0   0   0]\n",
      "[  5 147   2 ...   0   0   0]\n",
      "[  5 222   2 ...   0   0   0]\n",
      "[   5 3906 1885 ...    0    0    0]\n",
      "[  5 344   2 ...   0   0   0]\n",
      "[  5 147   2 ...   0   0   0]\n",
      "[  5 222   2 ...   0   0   0]\n",
      "[  5 226   2 ...   0   0   0]\n",
      "[  5 147   2 ...   0   0   0]\n",
      "[  5 226   2 ...   0   0   0]\n",
      "[  5 147   2 ...   0   0   0]\n",
      "[  5 147  11 ...   0   0   0]\n",
      "[  5 109   8 ...   0   0   0]\n",
      "[  5 410   2 ...   0   0   0]\n",
      "[  5 801   7 ...   0   0   0]\n",
      "[  5 147   2 ...   0   0   0]\n",
      "[  5 410   2 ...   0   0   0]\n",
      "[  5 226   2 ...   0   0   0]\n",
      "[  5 147   2 ...   0   0   0]\n",
      "[  5 222 436 ...   0   0   0]\n",
      "[  5 226   2 ...   0   0   0]\n",
      "[   5 1096    2 ...    0    0    0]\n",
      "[  5 147   2 ...   0   0   0]\n",
      "[626   2 469 ...   0   0   0]\n",
      "[  5 226   2 ...   0   0   0]\n",
      "[   5 1096    2 ...    0    0    0]\n",
      "[  5 147   2 ...   0   0   0]\n",
      "[  5 344   2 ...   0   0   0]\n",
      "[  5 109   8 ...   0   0   0]\n",
      "[  5 222   7 ...   0   0   0]\n",
      "[  5 147  39 ...   0   0   0]\n",
      "[   5 2845    1 ...    0    0    0]\n",
      "[  5 147   2 ...   0   0   0]\n",
      "[   5 1420  265 ...    0    0    0]\n",
      "[  5 147   2 ...   0   0   0]\n",
      "[  5 344   2 ...   0   0   0]\n",
      "[  5 147   2 ...   0   0   0]\n",
      "[  5 226  28 ...   0   0   0]\n",
      "[  5 344   2 ...   0   0   0]\n",
      "[626   2 469 ...   0   0   0]\n",
      "[  5 222   7 ...   0   0   0]\n",
      "[  5 222 125 ...   0   0   0]\n",
      "[   5 3782    2 ...    0    0    0]\n",
      "[  5 226   2 ...   0   0   0]\n",
      "[  5 226   2 ...   0   0   0]\n",
      "[  5 147   2 ...   0   0   0]\n",
      "[  5 226   7 ...   0   0   0]\n",
      "[  5 147   2 ...   0   0   0]\n",
      "[1023    2  677 ...    0    0    0]\n",
      "[   5 2053    2 ...    0    0    0]\n",
      "[  5 801   2 ...   0   0   0]\n",
      "[626   2 316 ...   0   0   0]\n",
      "[1023  124    8 ...    0    0    0]\n",
      "[  5 124   2 ...   0   0   0]\n",
      "[  5 109  18 ...   0   0   0]\n",
      "[  5 147  39 ...   0   0   0]\n",
      "[  5 147   2 ...   0   0   0]\n",
      "[  5 147   2 ...   0   0   0]\n",
      "[  5 344   2 ...   0   0   0]\n",
      "[  8   2 657 ...   0   0   0]\n",
      "[  5 147  39 ...   0   0   0]\n",
      "[  5 344   2 ...   0   0   0]\n",
      "[  5 226 122 ...   0   0   0]\n",
      "[   5 1096    2 ...    0    0    0]\n",
      "[1301    2 3905 ...    0    0    0]\n",
      "[1301    4 2959 ...    0    0    0]\n",
      "[  5 344   2 ...   0   0   0]\n",
      "[  5 147   2 ...   0   0   0]\n",
      "[  5 801 378 ...   0   0   0]\n",
      "[  5 147   2 ...   0   0   0]\n",
      "[  8   2 657 ...   0   0   0]\n",
      "[  1   2 833 ...   0   0   0]\n",
      "[  1   2 117 ...   0   0   0]\n",
      "[  8   2 657 ...   0   0   0]\n",
      "[  5 147   2 ...   0   0   0]\n",
      "[  5 416 675 ...   0   0   0]\n",
      "[  5 109   8 ...   0   0   0]\n",
      "[  5 147  39 ...   0   0   0]\n",
      "[  5 147   2 ...   0   0   0]\n",
      "[  5 147 218 ...   0   0   0]\n",
      "[  5 455   7 ...   0   0   0]\n",
      "[  5 147  39 ...   0   0   0]\n",
      "[   5 1096    2 ...    0    0    0]\n",
      "[  5 147  39 ...   0   0   0]\n",
      "[  5 147   2 ...   0   0   0]\n",
      "[  5 147   2 ...   0   0   0]\n",
      "[  5 410   2 ...   0   0   0]\n",
      "[  5 147   2 ...   0   0   0]\n",
      "[  5 222  25 ...   0   0   0]\n",
      "[  5 147   2 ...   0   0   0]\n",
      "[  5 410   2 ...   0   0   0]\n",
      "[   5 1804  153 ...    0    0    0]\n",
      "[  5 109   8 ...   0   0   0]\n",
      "[2999  237   20 ...    0    0    0]\n",
      "[ 610 1220 1116 ...    0    0    0]\n",
      "[ 481  826 2069 ...    0    0    0]\n",
      "[ 595 1612 2567 ...    0    0    0]\n",
      "[ 22 261 376 ...   0   0   0]\n",
      "[  6  71 726 ...   0   0   0]\n",
      "[202 178   8 ...   0   0   0]\n",
      "[449   1 610 ...   0   0   0]\n",
      "[1035   47 2466 ...    0    0    0]\n",
      "[7 1 1 ... 0 0 0]\n",
      "[ 610 3993    4 ...    0    0    0]\n",
      "0.9501536360532605\n"
     ]
    }
   ],
   "source": [
    "predictions = model.predict(X)\n",
    "\n",
    "num_correct = 0\n",
    "for i,j,k in zip(predictions,y,X):\n",
    "    if (i > 0 and j > 0) or (i < 0 and j < 0):\n",
    "        num_correct += 1\n",
    "    else:\n",
    "        print(encoder(k[:3000]).numpy())\n",
    "print(num_correct / len(predictions))"
   ]
  },
  {
   "cell_type": "code",
   "execution_count": 36,
   "metadata": {},
   "outputs": [
    {
     "data": {
      "text/plain": [
       "array([[0.0980597]], dtype=float32)"
      ]
     },
     "execution_count": 36,
     "metadata": {},
     "output_type": "execute_result"
    }
   ],
   "source": [
    "sample_text = ('in this modern age, guns should not have a gender, genders are for people')\n",
    "predictions = model.predict(np.array([sample_text]))\n",
    "predictions"
   ]
  }
 ],
 "metadata": {
  "kernelspec": {
   "display_name": "Python 3.10.2 64-bit",
   "language": "python",
   "name": "python3"
  },
  "language_info": {
   "codemirror_mode": {
    "name": "ipython",
    "version": 3
   },
   "file_extension": ".py",
   "mimetype": "text/x-python",
   "name": "python",
   "nbconvert_exporter": "python",
   "pygments_lexer": "ipython3",
   "version": "3.10.2"
  },
  "orig_nbformat": 4,
  "vscode": {
   "interpreter": {
    "hash": "aee8b7b246df8f9039afb4144a1f6fd8d2ca17a180786b69acc140d282b71a49"
   }
  }
 },
 "nbformat": 4,
 "nbformat_minor": 2
}
